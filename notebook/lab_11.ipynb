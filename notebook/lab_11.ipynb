{
  "nbformat": 4,
  "nbformat_minor": 0,
  "metadata": {
    "colab": {
      "provenance": [],
      "gpuType": "T4"
    },
    "kernelspec": {
      "name": "python3",
      "display_name": "Python 3"
    },
    "language_info": {
      "name": "python"
    },
    "accelerator": "GPU"
  },
  "cells": [
    {
      "cell_type": "code",
      "execution_count": 31,
      "metadata": {
        "colab": {
          "base_uri": "https://localhost:8080/"
        },
        "id": "JASMTyJEsze3",
        "outputId": "64b6ce50-eb53-412d-e57c-ca1dc6118a47"
      },
      "outputs": [
        {
          "output_type": "stream",
          "name": "stdout",
          "text": [
            "Requirement already satisfied: linkpred in /usr/local/lib/python3.11/dist-packages (0.6)\n",
            "Requirement already satisfied: matplotlib>=3.5 in /usr/local/lib/python3.11/dist-packages (from linkpred) (3.10.0)\n",
            "Requirement already satisfied: networkx>=3.0 in /usr/local/lib/python3.11/dist-packages (from linkpred) (3.4.2)\n",
            "Requirement already satisfied: numpy>=1.23 in /usr/local/lib/python3.11/dist-packages (from linkpred) (2.0.2)\n",
            "Requirement already satisfied: pyyaml>=3.0 in /usr/local/lib/python3.11/dist-packages (from linkpred) (6.0.2)\n",
            "Requirement already satisfied: scipy>=1.10 in /usr/local/lib/python3.11/dist-packages (from linkpred) (1.14.1)\n",
            "Requirement already satisfied: smokesignal>=0.7 in /usr/local/lib/python3.11/dist-packages (from linkpred) (0.7.0)\n",
            "Requirement already satisfied: contourpy>=1.0.1 in /usr/local/lib/python3.11/dist-packages (from matplotlib>=3.5->linkpred) (1.3.1)\n",
            "Requirement already satisfied: cycler>=0.10 in /usr/local/lib/python3.11/dist-packages (from matplotlib>=3.5->linkpred) (0.12.1)\n",
            "Requirement already satisfied: fonttools>=4.22.0 in /usr/local/lib/python3.11/dist-packages (from matplotlib>=3.5->linkpred) (4.57.0)\n",
            "Requirement already satisfied: kiwisolver>=1.3.1 in /usr/local/lib/python3.11/dist-packages (from matplotlib>=3.5->linkpred) (1.4.8)\n",
            "Requirement already satisfied: packaging>=20.0 in /usr/local/lib/python3.11/dist-packages (from matplotlib>=3.5->linkpred) (24.2)\n",
            "Requirement already satisfied: pillow>=8 in /usr/local/lib/python3.11/dist-packages (from matplotlib>=3.5->linkpred) (11.1.0)\n",
            "Requirement already satisfied: pyparsing>=2.3.1 in /usr/local/lib/python3.11/dist-packages (from matplotlib>=3.5->linkpred) (3.2.3)\n",
            "Requirement already satisfied: python-dateutil>=2.7 in /usr/local/lib/python3.11/dist-packages (from matplotlib>=3.5->linkpred) (2.8.2)\n",
            "Requirement already satisfied: six>=1.5 in /usr/local/lib/python3.11/dist-packages (from python-dateutil>=2.7->matplotlib>=3.5->linkpred) (1.17.0)\n"
          ]
        }
      ],
      "source": [
        "pip install linkpred\n"
      ]
    },
    {
      "cell_type": "code",
      "source": [
        "import linkpred\n",
        "import networkx as nx\n",
        "%matplotlib inline\n",
        "import matplotlib.pyplot as plt\n",
        "import csv\n",
        "\n"
      ],
      "metadata": {
        "id": "6sgqFvvts9m0"
      },
      "execution_count": 32,
      "outputs": []
    },
    {
      "cell_type": "code",
      "source": [
        "from google.colab import drive\n",
        "drive.mount('/content/drive')\n"
      ],
      "metadata": {
        "colab": {
          "base_uri": "https://localhost:8080/"
        },
        "id": "zsa71hJ0urIS",
        "outputId": "100c613f-1b26-4006-dddc-a11e494bbd5c"
      },
      "execution_count": 33,
      "outputs": [
        {
          "output_type": "stream",
          "name": "stdout",
          "text": [
            "Drive already mounted at /content/drive; to attempt to forcibly remount, call drive.mount(\"/content/drive\", force_remount=True).\n"
          ]
        }
      ]
    },
    {
      "cell_type": "code",
      "source": [
        "def read_net_w(filepath):\n",
        "    g = nx.Graph()\n",
        "    with open(filepath, 'r') as f:\n",
        "        reader = csv.DictReader(f)\n",
        "        for row in reader:\n",
        "            g.add_edge(\n",
        "                row['Source'],\n",
        "                row['Target'],\n",
        "                weight=int(row['weight'])\n",
        "            )\n",
        "    return g\n",
        "\n",
        "# Ашиглах:\n",
        "g = read_net_w(\"/content/drive/MyDrive/Colab Notebooks/social network/book5.csv\")\n",
        "\n",
        "# Жишээ: графын мэдээлэл шалгах\n",
        "print(f\"Нийт зангилаа: {g.number_of_nodes()}\")\n",
        "print(f\"Нийт холбоос: {g.number_of_edges()}\")\n"
      ],
      "metadata": {
        "colab": {
          "base_uri": "https://localhost:8080/"
        },
        "id": "VoLYKn35wHiC",
        "outputId": "883c6486-5dda-43bd-82cd-b62fba8e07a8"
      },
      "execution_count": 34,
      "outputs": [
        {
          "output_type": "stream",
          "name": "stdout",
          "text": [
            "Нийт зангилаа: 317\n",
            "Нийт холбоос: 760\n"
          ]
        }
      ]
    },
    {
      "cell_type": "code",
      "source": [
        "cn = linkpred.predictors.CommonNeighbours(g, excluded=g.edges()) # We aim to predict onl\n",
        "cn_results = cn.predict()\n",
        "\n",
        "top = cn_results.top(5)\n",
        "for edge, score in top.items():\n",
        "  print(edge, score)\n",
        "\n"
      ],
      "metadata": {
        "colab": {
          "base_uri": "https://localhost:8080/"
        },
        "id": "KwrYtJnDxYhW",
        "outputId": "eb1adf3b-6289-4b28-a3d9-94aaba8f4b7b"
      },
      "execution_count": 35,
      "outputs": [
        {
          "output_type": "stream",
          "name": "stdout",
          "text": [
            "Ysilla - Jon-Connington 6.0\n",
            "Tyrion-Lannister - Robert-Baratheon 6.0\n",
            "Theon-Greyjoy - Jon-Snow 6.0\n",
            "Stannis-Baratheon - Gilly 6.0\n",
            "Stannis-Baratheon - Arya-Stark 6.0\n"
          ]
        }
      ]
    },
    {
      "cell_type": "markdown",
      "source": [],
      "metadata": {
        "id": "4hbMN7CrzVR6"
      }
    },
    {
      "cell_type": "code",
      "source": [
        "jc = linkpred.predictors.Jaccard(g, excluded=g.edges())\n",
        "jc_results = jc.predict()\n",
        "\n",
        "top = jc_results.top(5)\n",
        "for edge, score in top.items():\n",
        "  print(edge, score)\n",
        "\n"
      ],
      "metadata": {
        "colab": {
          "base_uri": "https://localhost:8080/"
        },
        "id": "Wy-0UDt6ypWA",
        "outputId": "add292f9-c3c0-4d55-e30a-472684fa008b"
      },
      "execution_count": null,
      "outputs": [
        {
          "output_type": "stream",
          "name": "stdout",
          "text": [
            "Yurkhaz-zo-Yunzak - Quaithe 1.0\n",
            "Yurkhaz-zo-Yunzak - Lysono-Maar 1.0\n",
            "Yurkhaz-zo-Yunzak - Ghael 1.0\n",
            "Yurkhaz-zo-Yunzak - Ezzara 1.0\n",
            "Yurkhaz-zo-Yunzak - Eroeh 1.0\n"
          ]
        }
      ]
    },
    {
      "cell_type": "code",
      "source": [
        "aa = linkpred.predictors.AdamicAdar(g, excluded=g.edges())\n",
        "aa_results = aa.predict()\n",
        "\n",
        "top = aa_results.top(5)\n",
        "for edge, score in top.items():\n",
        "  print(edge, score)\n",
        "\n"
      ],
      "metadata": {
        "colab": {
          "base_uri": "https://localhost:8080/"
        },
        "id": "ZwVpvbHqz0aH",
        "outputId": "0665f300-839c-4783-a1b5-6bedb58f2fce"
      },
      "execution_count": null,
      "outputs": [
        {
          "output_type": "stream",
          "name": "stdout",
          "text": [
            "Haldon - Daenerys-Targaryen 3.268864482424701\n",
            "Stannis-Baratheon - Gilly 2.9199461441753884\n",
            "Lorren - Asha-Greyjoy 2.7221531878846923\n",
            "Ysilla - Jon-Connington 2.5809964636982645\n",
            "Mance-Rayder - Jeyne-Poole 2.3917854871108535\n"
          ]
        }
      ]
    },
    {
      "cell_type": "code",
      "source": [
        "kz = linkpred.predictors.Katz(g, excluded=g.edges())\n",
        "kz_results = kz.predict()\n",
        "\n",
        "top = kz_results.top(5)\n",
        "for edge, score in top.items():\n",
        " print(edge, score)\n"
      ],
      "metadata": {
        "colab": {
          "base_uri": "https://localhost:8080/"
        },
        "id": "vSNPMw__0Kcr",
        "outputId": "fda0fc4a-762f-472a-dd54-d542101ab972"
      },
      "execution_count": null,
      "outputs": [
        {
          "output_type": "stream",
          "name": "stdout",
          "text": [
            "\n",
            "Tormund - Stannis-Baratheon 0.004379774804316001\n",
            "Skahaz-mo-Kandaq - Quentyn-Martell 0.0035904250813749996\n",
            "Penny - Haldon 0.0033678259880290003\n",
            "Val - Melisandre 0.0027959699247209996\n",
            "Irri - Barristan-Selmy 0.00279530479421\n"
          ]
        }
      ]
    },
    {
      "cell_type": "code",
      "source": [
        "gd = linkpred.predictors.GraphDistance(g, excluded=g.edges())\n",
        "gd_results = gd.predict()\n",
        "\n",
        "top = gd_results.top(5)\n",
        "for edge, score in top.items():\n",
        " print(edge, score)\n"
      ],
      "metadata": {
        "colab": {
          "base_uri": "https://localhost:8080/"
        },
        "id": "z6GivFSc07pG",
        "outputId": "5349b375-9cdd-46b5-8e20-e4299830df48"
      },
      "execution_count": null,
      "outputs": [
        {
          "output_type": "stream",
          "name": "stdout",
          "text": [
            "Tormund - Stannis-Baratheon 29.674796747967477\n",
            "Penny - Haldon 28.19469026548673\n",
            "Tormund - Melisandre 24.489795918367346\n",
            "Melisandre - Bowen-Marsh 23.225806451612904\n",
            "Penny - Jon-Connington 22.739583333333336\n"
          ]
        }
      ]
    },
    {
      "cell_type": "code",
      "source": [
        "simrank = linkpred.predictors.SimRank(g, excluded=g.edges())\n",
        "simrank_results = simrank.predict(c=0.5)\n",
        "\n",
        "top = simrank_results.top(5)\n",
        "for edge, score in top.items():\n",
        "   print(edge, score)\n"
      ],
      "metadata": {
        "colab": {
          "base_uri": "https://localhost:8080/"
        },
        "id": "KL9x6z431NzK",
        "outputId": "9af7bf96-4e92-40ac-94b3-f4b47ed1cc96"
      },
      "execution_count": null,
      "outputs": [
        {
          "output_type": "stream",
          "name": "stdout",
          "text": [
            "Wulfe - Ralf-(Limper) 0.5\n",
            "Wulfe - Longwater-Pyke 0.5\n",
            "Wulfe - Kerwin 0.5\n",
            "Willow-Witch-eye - Wex-Pyke 0.5\n",
            "Willow-Witch-eye - Harwood-Stout 0.5\n"
          ]
        }
      ]
    },
    {
      "cell_type": "code",
      "source": [
        "rnd = linkpred.predictors.Random(g, excluded=g.edges())\n",
        "rnd_results = rnd.predict()\n",
        "\n",
        "top = simrank_results.top(5)\n",
        "for edge, score in top.items():\n",
        " print(edge, score)"
      ],
      "metadata": {
        "colab": {
          "base_uri": "https://localhost:8080/"
        },
        "id": "VIa54edq1rdh",
        "outputId": "b79e8864-639e-4a11-ea4c-bc3350798ea4"
      },
      "execution_count": null,
      "outputs": [
        {
          "output_type": "stream",
          "name": "stdout",
          "text": [
            "Wulfe - Ralf-(Limper) 0.5\n",
            "Wulfe - Longwater-Pyke 0.5\n",
            "Wulfe - Kerwin 0.5\n",
            "Willow-Witch-eye - Wex-Pyke 0.5\n",
            "Willow-Witch-eye - Harwood-Stout 0.5\n"
          ]
        }
      ]
    },
    {
      "cell_type": "code",
      "source": [
        "import random\n",
        "import itertools\n",
        "from linkpred.evaluation import Pair\n",
        "\n",
        "# Building the test network\n",
        "test = read_net_w(f'/book4.csv')\n",
        "\n",
        "# Exclude test network from learning phase\n",
        "training = g.copy()\n",
        "\n",
        "# Node set\n",
        "nodes = list(g.nodes())\n",
        "nodes.extend(list(test.nodes()))\n",
        "# Compute the test set and the universe set\n",
        "test = [Pair(i) for i in test.edges()]\n",
        "universe = set([Pair(i) for i in itertools.product(nodes, nodes) if i[0]!=i[1]])\n",
        "\n"
      ],
      "metadata": {
        "id": "fxn0mNfW2Kbt"
      },
      "execution_count": 37,
      "outputs": []
    },
    {
      "cell_type": "code",
      "source": [
        "cn = linkpred.predictors.CommonNeighbours(training, excluded=training.edges())\n",
        "cn_results = cn.predict()\n",
        "\n",
        "aa = linkpred.predictors.AdamicAdar(training, excluded=training.edges())\n",
        "aa_results = aa.predict()\n",
        "\n",
        "jc = linkpred.predictors.Jaccard(training, excluded=training.edges())\n",
        "jc_results = jc.predict()"
      ],
      "metadata": {
        "id": "7gsvMT-k4liC"
      },
      "execution_count": 38,
      "outputs": []
    },
    {
      "cell_type": "code",
      "source": [
        "cn_evaluation = linkpred.evaluation.EvaluationSheet(cn_results, test, universe)\n",
        "aa_evaluation = linkpred.evaluation.EvaluationSheet(aa_results, test, universe)\n",
        "jc_evaluation = linkpred.evaluation.EvaluationSheet(jc_results, test, universe)\n"
      ],
      "metadata": {
        "id": "6fOOVeFq5ESF"
      },
      "execution_count": 39,
      "outputs": []
    },
    {
      "cell_type": "code",
      "source": [
        "plt.plot(cn_evaluation.fallout(), cn_evaluation.recall(), label=\"Common Neighbors\")\n",
        "plt.plot(aa_evaluation.fallout(), aa_evaluation.recall(), label=\"Adamic Adar\")\n",
        "plt.plot(jc_evaluation.fallout(), jc_evaluation.recall(), label=\"Jaccard\")\n",
        "plt.ylabel(\"TPR\")\n",
        "plt.xlabel(\"FPR\")\n",
        "plt.legend()\n",
        "plt.show()"
      ],
      "metadata": {
        "id": "a31u3oBB5h5T",
        "colab": {
          "base_uri": "https://localhost:8080/",
          "height": 449
        },
        "outputId": "959e41f3-c2ea-49d1-da66-eb8f73d8e00b"
      },
      "execution_count": 40,
      "outputs": [
        {
          "output_type": "display_data",
          "data": {
            "text/plain": [
              "<Figure size 640x480 with 1 Axes>"
            ],
            "image/png": "[encoded data removed]"
          },
          "metadata": {}
        }
      ]
    },
    {
      "cell_type": "code",
      "source": [
        "from sklearn.metrics import auc\n",
        "\n",
        "print(\"Area Under Roc Curve (AUROC)\")\n",
        "print(f\"Common Neigh.: \\t {auc(cn_evaluation.fallout(), cn_evaluation.recall())}\")\n",
        "print(f\"Adamic Adar: \\t {auc(aa_evaluation.fallout(), aa_evaluation.recall())}\")\n",
        "print(f\"Jaccard: \\t {auc(jc_evaluation.fallout(), jc_evaluation.recall())}\")\n"
      ],
      "metadata": {
        "colab": {
          "base_uri": "https://localhost:8080/"
        },
        "id": "dPsS79PpE4MF",
        "outputId": "21521138-3a50-40db-e212-c296f97733fe"
      },
      "execution_count": 41,
      "outputs": [
        {
          "output_type": "stream",
          "name": "stdout",
          "text": [
            "Area Under Roc Curve (AUROC)\n",
            "Common Neigh.: \t 0.003658022190360594\n",
            "Adamic Adar: \t 0.005231116071808705\n",
            "Jaccard: \t 0.0030498113743429927\n"
          ]
        }
      ]
    },
    {
      "cell_type": "code",
      "source": [],
      "metadata": {
        "id": "7-uy2embF1VX"
      },
      "execution_count": null,
      "outputs": []
    }
  ]
}